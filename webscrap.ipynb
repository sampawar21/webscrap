{
  "nbformat": 4,
  "nbformat_minor": 0,
  "metadata": {
    "colab": {
      "name": "webscrap.ipynb",
      "provenance": []
    },
    "kernelspec": {
      "name": "python3",
      "display_name": "Python 3"
    },
    "language_info": {
      "name": "python"
    }
  },
  "cells": [
    {
      "cell_type": "code",
      "metadata": {
        "colab": {
          "base_uri": "https://localhost:8080/"
        },
        "id": "-_TyaqWlqXk0",
        "outputId": "17acc664-b03c-4197-ccb8-990cb64fa64b"
      },
      "source": [
        "print(\"hello\")"
      ],
      "execution_count": null,
      "outputs": [
        {
          "output_type": "stream",
          "name": "stdout",
          "text": [
            "hello\n"
          ]
        }
      ]
    },
    {
      "cell_type": "code",
      "metadata": {
        "colab": {
          "base_uri": "https://localhost:8080/"
        },
        "id": "GU8SCFt6rr5h",
        "outputId": "07dabe8c-dd56-432a-9f08-0a0f8436724a"
      },
      "source": [
        "print(\"mi\")"
      ],
      "execution_count": null,
      "outputs": [
        {
          "output_type": "stream",
          "name": "stdout",
          "text": [
            "mi\n"
          ]
        }
      ]
    },
    {
      "cell_type": "code",
      "metadata": {
        "colab": {
          "base_uri": "https://localhost:8080/"
        },
        "id": "AwV0f9vqrv7y",
        "outputId": "c5554555-6038-4a2d-ad40-14095318c88e"
      },
      "source": [
        "print(\"my\")"
      ],
      "execution_count": null,
      "outputs": [
        {
          "output_type": "stream",
          "name": "stdout",
          "text": [
            "my\n"
          ]
        }
      ]
    },
    {
      "cell_type": "code",
      "metadata": {
        "colab": {
          "base_uri": "https://localhost:8080/"
        },
        "id": "1ZC6utbSNmem",
        "outputId": "1ecaae4e-48c9-4de0-d683-16be0b63c9ad"
      },
      "source": [
        "import requests \n",
        "import string\n",
        "from bs4 import BeautifulSoup\n",
        "\n",
        "\n",
        "enter_input = input(\"search: \")\n",
        "u_i = string.capwords(enter_input)\n",
        "lists = u_i.split()\n",
        "word =\"-\".join(lists)\n",
        "\n",
        "url = \"https://en.wikipedia.org/wiki/\"+word\n",
        "\n",
        "def wikibot(url):\n",
        "  url_open = requests.get(url)\n",
        "  soup = BeautifulSoup(url_open.content,'html.parser')\n",
        "  details = soup('table',{'class':'infobox'})\n",
        "  for i in details:\n",
        "    h =i.find_all('tr')\n",
        "    for j in h:\n",
        "      heading = j.find_all('th')\n",
        "      detail = j.find_all('td')\n",
        "      if heading is not None and detail is not None:\n",
        "        for x,y in zip(heading,detail):\n",
        "          print(\"{}  ::  {}\".format(x.text,y.text))\n",
        "          print(\"--------------------\")\n",
        "\n",
        "    for i in range(1,3):\n",
        "       print(soup('p')[i].text)\n",
        "wikibot(url)\n"
      ],
      "execution_count": null,
      "outputs": [
        {
          "output_type": "stream",
          "name": "stdout",
          "text": [
            "search: pakistan\n",
            "Capital  ::  Islamabad33°41′30″N 73°03′00″E﻿ / ﻿33.69167°N 73.05000°E﻿ / 33.69167; 73.05000\n",
            "--------------------\n",
            "Largest city  ::  Karachi24°51′36″N 67°00′36″E﻿ / ﻿24.86000°N 67.01000°E﻿ / 24.86000; 67.01000\n",
            "--------------------\n",
            "Official languages  ::  UrduEnglish\n",
            "--------------------\n",
            "Regional languages  ::  Punjabi (39%) • Pashto (18%) • Sindhi (15%) • Saraiki (12%) • Balochi (3%) • Hindko (2%) •  Pothwari (1%) • Brahui (1%)  • Kashmiri (0.17%) Balti • Burushaski • Dameli • Domaaki • Gawar-Bati • Kalasha • Khowar • Kohistani • Kutchi • Memoni • Shina • Wakhi • Yidgha\n",
            "--------------------\n",
            "Ethnic groups  (2020[3])  ::  44.7% Punjabis15.4% Pashtuns14.1% Sindhis8.4% Saraikis7.6% Muhajirs3.6% Balochs6.3% Others\n",
            "--------------------\n",
            "Religion  (2017[5])  ::  96.47% Islam (official)[4]2.14% Hinduism1.27% Christianity0.9% Ahmadiyya0.02% Others\n",
            "--------------------\n",
            "Demonym(s)  ::  Pakistani\n",
            "--------------------\n",
            "Government  ::  Federal parliamentary constitutional republic\n",
            "--------------------\n",
            "• President   ::  Arif Alvi\n",
            "--------------------\n",
            "• Prime Minister   ::  Imran Khan\n",
            "--------------------\n",
            "• Chairman of the Senate   ::  Sadiq Sanjrani\n",
            "--------------------\n",
            "• Speaker of the National Assembly   ::  Asad Qaiser\n",
            "--------------------\n",
            "• Chief Justice   ::  Gulzar Ahmed\n",
            "--------------------\n",
            "Legislature  ::  Parliament\n",
            "--------------------\n",
            "• Upper house  ::  Senate\n",
            "--------------------\n",
            "• Lower house  ::  National Assembly\n",
            "--------------------\n",
            "• Dominion   ::  14 August 1947\n",
            "--------------------\n",
            "• Islamic Republic   ::  23 March 1956\n",
            "--------------------\n",
            "• Last polity withdrawn   ::  12 January 1972\n",
            "--------------------\n",
            "• Current constitution   ::  14 August 1973\n",
            "--------------------\n",
            "• Total  ::  881,913 km2 (340,509 sq mi)[a][7] (33rd)\n",
            "--------------------\n",
            "• Water (%)  ::  2.86\n",
            "--------------------\n",
            "• 2021 estimate  ::   225,199,937[8] (5th)\n",
            "--------------------\n",
            "• 2017 census  ::   207.8 million\n",
            "--------------------\n",
            "• Density  ::  244.4/km2 (633.0/sq mi) (56th)\n",
            "--------------------\n",
            "GDP .mw-parser-output .nobold{font-weight:normal}(PPP)  ::  2021 estimate\n",
            "--------------------\n",
            "• Total  ::   $1.110 trillion[9] (26th)\n",
            "--------------------\n",
            "• Per capita  ::   $5,839[9] (139th)\n",
            "--------------------\n",
            "GDP (nominal)  ::  2021 estimate\n",
            "--------------------\n",
            "• Total  ::   $296 billion[9] (43rd)\n",
            "--------------------\n",
            "• Per capita  ::   $1,543[9] (159th)\n",
            "--------------------\n",
            "Gini (2018)  ::   31.6[10]medium\n",
            "--------------------\n",
            "HDI (2019)  ::   0.557[11]medium · 152nd\n",
            "--------------------\n",
            "Currency  ::  Pakistani rupee (₨) (PKR)\n",
            "--------------------\n",
            "Time zone  ::  UTC+05:00 (PKT)\n",
            "--------------------\n",
            "  ::  DST is not observed\n",
            "--------------------\n",
            "Date format  ::  dd-mm-yyyy[b]\n",
            "--------------------\n",
            "Mains electricity  ::  230 V–50 Hz\n",
            "--------------------\n",
            "Driving side  ::  left[12]\n",
            "--------------------\n",
            "Calling code  ::  +92\n",
            "--------------------\n",
            "ISO 3166 code  ::  PK\n",
            "--------------------\n",
            "Internet TLD  ::  .pkپاکستان.\n",
            "--------------------\n",
            "Pakistan,[c] officially the Islamic Republic of Pakistan,[d] is a country in South Asia. It is the world's fifth-most populous country, with a population exceeding 225.1 million, and has the world's second-largest Muslim population. Pakistan is the 33rd-largest country by area, spanning 881,913 square kilometres (340,509 square miles). It has a 1,046-kilometre (650-mile) coastline along the Arabian Sea and Gulf of Oman in the south, and is bordered by India to the east, Afghanistan to the west, Iran to the southwest, and China to the northeast. It is separated narrowly from Tajikistan by Afghanistan's Wakhan Corridor in the north, and also shares a maritime border with Oman.\n",
            "\n",
            "Pakistan is the site of several ancient cultures, including the 8,500-year-old Neolithic site of Mehrgarh in Balochistan,[13] and the Indus Valley Civilisation of the Bronze Age, the most extensive of the civilisations of the Old World.[14] The region that comprises the modern state of Pakistan was the realm of multiple empires and dynasties, including the Achaemenid; briefly that of Alexander the Great; the Seleucid, the Maurya, the Kushan, the Gupta;[15] the Umayyad Caliphate in its southern regions, the Hindu Shahi, the Ghaznavids, the Delhi Sultanate, the Mughals,[16] the Durranis, the Sikh Empire, British East India Company rule, and most recently, the British Indian Empire from 1858 to 1947.\n",
            "\n",
            "Pakistan,[c] officially the Islamic Republic of Pakistan,[d] is a country in South Asia. It is the world's fifth-most populous country, with a population exceeding 225.1 million, and has the world's second-largest Muslim population. Pakistan is the 33rd-largest country by area, spanning 881,913 square kilometres (340,509 square miles). It has a 1,046-kilometre (650-mile) coastline along the Arabian Sea and Gulf of Oman in the south, and is bordered by India to the east, Afghanistan to the west, Iran to the southwest, and China to the northeast. It is separated narrowly from Tajikistan by Afghanistan's Wakhan Corridor in the north, and also shares a maritime border with Oman.\n",
            "\n",
            "Pakistan is the site of several ancient cultures, including the 8,500-year-old Neolithic site of Mehrgarh in Balochistan,[13] and the Indus Valley Civilisation of the Bronze Age, the most extensive of the civilisations of the Old World.[14] The region that comprises the modern state of Pakistan was the realm of multiple empires and dynasties, including the Achaemenid; briefly that of Alexander the Great; the Seleucid, the Maurya, the Kushan, the Gupta;[15] the Umayyad Caliphate in its southern regions, the Hindu Shahi, the Ghaznavids, the Delhi Sultanate, the Mughals,[16] the Durranis, the Sikh Empire, British East India Company rule, and most recently, the British Indian Empire from 1858 to 1947.\n",
            "\n",
            "Pakistan,[c] officially the Islamic Republic of Pakistan,[d] is a country in South Asia. It is the world's fifth-most populous country, with a population exceeding 225.1 million, and has the world's second-largest Muslim population. Pakistan is the 33rd-largest country by area, spanning 881,913 square kilometres (340,509 square miles). It has a 1,046-kilometre (650-mile) coastline along the Arabian Sea and Gulf of Oman in the south, and is bordered by India to the east, Afghanistan to the west, Iran to the southwest, and China to the northeast. It is separated narrowly from Tajikistan by Afghanistan's Wakhan Corridor in the north, and also shares a maritime border with Oman.\n",
            "\n",
            "Pakistan is the site of several ancient cultures, including the 8,500-year-old Neolithic site of Mehrgarh in Balochistan,[13] and the Indus Valley Civilisation of the Bronze Age, the most extensive of the civilisations of the Old World.[14] The region that comprises the modern state of Pakistan was the realm of multiple empires and dynasties, including the Achaemenid; briefly that of Alexander the Great; the Seleucid, the Maurya, the Kushan, the Gupta;[15] the Umayyad Caliphate in its southern regions, the Hindu Shahi, the Ghaznavids, the Delhi Sultanate, the Mughals,[16] the Durranis, the Sikh Empire, British East India Company rule, and most recently, the British Indian Empire from 1858 to 1947.\n",
            "\n"
          ]
        }
      ]
    },
    {
      "cell_type": "code",
      "metadata": {
        "colab": {
          "base_uri": "https://localhost:8080/"
        },
        "id": "FZhi6acDwdlC",
        "outputId": "f02bb503-c2bc-4607-d961-0adff5ec4687"
      },
      "source": [
        "class Point:\n",
        "    def __init__(self,r):\n",
        "\t      self.r = x\n",
        "\t      self.y = y\n",
        "\n",
        "    def __str__(self):\n",
        "\t      return \"({0},{1})\".format(self.x, self.y)\n",
        "\n",
        "    def __add__(self, other):\n",
        "\t      x = self.x + other.x\n",
        "\t      y = self.y + other.y\n",
        "\t      return Point(x, y)\n",
        "\n",
        "p1 = Point(1, 2)\n",
        "p2 = Point(2, 3)\n",
        "\n",
        "print(p1+p2)\n"
      ],
      "execution_count": null,
      "outputs": [
        {
          "output_type": "stream",
          "name": "stdout",
          "text": [
            "(3,5)\n"
          ]
        }
      ]
    },
    {
      "cell_type": "code",
      "metadata": {
        "colab": {
          "base_uri": "https://localhost:8080/"
        },
        "id": "jgnF9tIB5XNi",
        "outputId": "97fe0e1b-e2ae-4e13-cce0-588ff0110b6c"
      },
      "source": [
        "class Circle():\n",
        "    def __init__(self, r):\n",
        "      self.r=r\n",
        "    \n",
        "   \n",
        "\n",
        "\n",
        "if __name__ == '__main__':\n",
        "    radius_1=int(input(\"Enter Radius of circle 1:\"))\n",
        "    radius_2=int(input(\"Enter Radius of circle 2:\"))\n",
        "    if radius_1==radius_2:\n",
        "      print(\"true\")\n",
        "    else:\n",
        "      print(\"false\")\n",
        "\n"
      ],
      "execution_count": null,
      "outputs": [
        {
          "output_type": "stream",
          "name": "stdout",
          "text": [
            "Enter Radius of circle 1:9\n",
            "Enter Radius of circle 2:7\n",
            "false\n"
          ]
        }
      ]
    },
    {
      "cell_type": "code",
      "metadata": {
        "colab": {
          "base_uri": "https://localhost:8080/"
        },
        "id": "yIbidKpANqrU",
        "outputId": "691d6669-782d-422e-d246-5be915fd80b0"
      },
      "source": [
        "class Rectangle():\n",
        "    def __init__(self, l, w):\n",
        "        self.length = l\n",
        "        self.width  = w\n",
        "\n",
        "    def rectangle_area(self):\n",
        "        return self.length*self.width\n",
        "\n",
        "if __name__ == '__main__':\n",
        "    a=int(input(\"Enter length of rectangle: \"))\n",
        "    b=int(input(\"Enter breadth of rectangle:  \"))\n",
        "    newRectangle = Rectangle(a, b)\n",
        "    print(newRectangle.rectangle_area())"
      ],
      "execution_count": null,
      "outputs": [
        {
          "output_type": "stream",
          "name": "stdout",
          "text": [
            "Enter length of rectangle: 9\n",
            "Enter breadth of rectangle:  5\n",
            "45\n"
          ]
        }
      ]
    },
    {
      "cell_type": "markdown",
      "metadata": {
        "id": "iDq5j64ZCS0i"
      },
      "source": [
        "class Circle():\n",
        "    def __init__(self, r):\n",
        "      self.radius = r\n",
        "\n",
        "    def area(self):\n",
        "      return \"self.radius**2*3.14\"\n",
        "    \n",
        "    def circumference(self):\n",
        "        return \"self.radius = r\"\n",
        "  \n",
        "    if __name__ == '__main__':\n",
        "       a=(input(\"Enter Radius of circle 1:\"))\n",
        "       b=(input(\"Enter Radius of circle 2:\"))\n",
        "       obj1=Circle(a)\n",
        "       obj2=Circle(b)\n",
        "       if obj1==obj2:\n",
        "           print(\"Both Circles are Equal\")\n",
        "       else:\n",
        "           print(\"hello\")\n",
        "       print(area(obj1))\n",
        "       print(circumference(obj1))\n",
        "    "
      ]
    },
    {
      "cell_type": "code",
      "metadata": {
        "colab": {
          "base_uri": "https://localhost:8080/",
          "height": 130
        },
        "id": "v77BloCpOkrx",
        "outputId": "f1d7a2ef-b4d0-4ae2-f3b4-255d09babb44"
      },
      "source": [
        "class Circle():\n",
        "    def __init__(self, r):\n",
        "        self.radius = r\n",
        "\n",
        "    def area(self):\n",
        "        return self.radius*2*3\n",
        "    \n",
        "    def perimeter(self):\n",
        "        return 2*self.radius*3.14\n",
        "circle_1=Circle(int(input(\"enter the input:\"))\n",
        "circle_2=Circle(int(input(\"enter the input\"))\n",
        "\n",
        "#circle_1=input(\"enter the input:\")\n",
        "#circle_2=input(\"enter the input\")\n",
        "print(circle_1.area())\n",
        "print(circle_2.area())\n",
        "print(circle_1.perimeter)\n",
        "print(circle_2.perimeter)"
      ],
      "execution_count": null,
      "outputs": [
        {
          "output_type": "error",
          "ename": "SyntaxError",
          "evalue": "ignored",
          "traceback": [
            "\u001b[0;36m  File \u001b[0;32m\"<ipython-input-45-cee1a6e393c1>\"\u001b[0;36m, line \u001b[0;32m11\u001b[0m\n\u001b[0;31m    circle_2=Circle(int(input(\"enter the input\"))\u001b[0m\n\u001b[0m           ^\u001b[0m\n\u001b[0;31mSyntaxError\u001b[0m\u001b[0;31m:\u001b[0m invalid syntax\n"
          ]
        }
      ]
    }
  ]
}